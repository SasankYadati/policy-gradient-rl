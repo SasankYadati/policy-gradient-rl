{
 "cells": [
  {
   "cell_type": "code",
   "execution_count": null,
   "metadata": {},
   "outputs": [],
   "source": [
    "import torch\n",
    "torch.manual_seed(0)"
   ]
  },
  {
   "cell_type": "code",
   "execution_count": null,
   "metadata": {},
   "outputs": [],
   "source": [
    "from refl.agents import ReinforceAgent, BaselineReinforceAgent\n",
    "import pandas as pd\n",
    "import plotly.express as px\n",
    "import gym"
   ]
  },
  {
   "cell_type": "markdown",
   "metadata": {},
   "source": [
    "## Reinforce"
   ]
  },
  {
   "cell_type": "code",
   "execution_count": null,
   "metadata": {},
   "outputs": [],
   "source": [
    "exp_avgs = []\n",
    "final_returns = []\n",
    "N_EPISODES = 1000"
   ]
  },
  {
   "cell_type": "code",
   "execution_count": null,
   "metadata": {},
   "outputs": [],
   "source": [
    "env = gym.make('CartPole-v1')"
   ]
  },
  {
   "cell_type": "code",
   "execution_count": null,
   "metadata": {},
   "outputs": [],
   "source": [
    "env.observation_space.shape[0]"
   ]
  },
  {
   "cell_type": "code",
   "execution_count": null,
   "metadata": {},
   "outputs": [],
   "source": [
    "for gamma in [1.0, 0.99, 0.95]:\n",
    "    agent = ReinforceAgent(n_state_dims=env.observation_space.shape[0], n_latent_dims=128, n_actions=env.action_space.n, gamma=gamma)\n",
    "    avgs = agent.learn(env, N_EPISODES, 500)\n",
    "    exp_avgs.extend(avgs)\n",
    "    final_returns.extend([{'Gamma':gamma, 'Return':ret, 'Episode':ep} for ep, ret in enumerate(agent.evaluate(env, 10))])"
   ]
  },
  {
   "cell_type": "code",
   "execution_count": null,
   "metadata": {},
   "outputs": [],
   "source": [
    "df = pd.DataFrame.from_records([r for r in exp_avgs])"
   ]
  },
  {
   "cell_type": "code",
   "execution_count": null,
   "metadata": {},
   "outputs": [],
   "source": [
    "fig = px.line(df, x=\"Episode\", y=\"AvgReturn\", color=\"Gamma\", title=f\"N_EPISODES={N_EPISODES}\")\n",
    "fig.show()"
   ]
  },
  {
   "cell_type": "code",
   "execution_count": null,
   "metadata": {},
   "outputs": [],
   "source": [
    "df = pd.DataFrame.from_records([r for r in final_returns])\n",
    "fig = px.line(df, x=\"Episode\", y=\"Return\", color=\"Gamma\", title=f\"Evaluation\")\n",
    "fig.show()"
   ]
  },
  {
   "cell_type": "markdown",
   "metadata": {},
   "source": [
    "# Baseline Reinforce Algorithm"
   ]
  },
  {
   "cell_type": "code",
   "execution_count": null,
   "metadata": {},
   "outputs": [],
   "source": [
    "exp_avgs = []"
   ]
  },
  {
   "cell_type": "code",
   "execution_count": null,
   "metadata": {},
   "outputs": [],
   "source": [
    "env = gym.make('CartPole-v1')"
   ]
  },
  {
   "cell_type": "code",
   "execution_count": null,
   "metadata": {},
   "outputs": [],
   "source": [
    "N_EPISODES = 500\n",
    "final_returns = []"
   ]
  },
  {
   "cell_type": "code",
   "execution_count": null,
   "metadata": {},
   "outputs": [],
   "source": [
    "for gamma in [1.0, 0.99, 0.95]:\n",
    "    agent = BaselineReinforceAgent(n_state_dims=env.observation_space.shape[0], n_latent_dims=128, n_actions=env.action_space.n, gamma=gamma)\n",
    "    avgs = agent.learn(env, N_EPISODES, 500)\n",
    "    exp_avgs.extend(avgs)\n",
    "    final_returns.extend([{'Gamma':gamma, 'Return':ret, 'Episode':ep} for ep, ret in enumerate(agent.evaluate(env, 10))])"
   ]
  },
  {
   "cell_type": "code",
   "execution_count": null,
   "metadata": {},
   "outputs": [],
   "source": [
    "df = pd.DataFrame.from_records([r for r in exp_avgs])"
   ]
  },
  {
   "cell_type": "code",
   "execution_count": null,
   "metadata": {},
   "outputs": [],
   "source": [
    "fig = px.line(df, x=\"Episode\", y=\"AvgReturn\", color=\"Gamma\", title=f\"N_EPISODES={N_EPISODES}\")\n",
    "fig.show()"
   ]
  },
  {
   "cell_type": "code",
   "execution_count": null,
   "metadata": {},
   "outputs": [],
   "source": [
    "df = pd.DataFrame.from_records([r for r in final_returns])\n",
    "fig = px.line(df, x=\"Episode\", y=\"Return\", color=\"Gamma\", title=f\"Evaluation\")\n",
    "fig.show()"
   ]
  }
 ],
 "metadata": {
  "kernelspec": {
   "display_name": "rl-assign",
   "language": "python",
   "name": "python3"
  },
  "language_info": {
   "codemirror_mode": {
    "name": "ipython",
    "version": 3
   },
   "file_extension": ".py",
   "mimetype": "text/x-python",
   "name": "python",
   "nbconvert_exporter": "python",
   "pygments_lexer": "ipython3",
   "version": "3.9.19"
  }
 },
 "nbformat": 4,
 "nbformat_minor": 2
}
