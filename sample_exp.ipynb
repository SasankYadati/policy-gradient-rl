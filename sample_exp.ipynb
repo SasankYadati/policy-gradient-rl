{
 "cells": [
  {
   "cell_type": "code",
   "execution_count": 1,
   "metadata": {},
   "outputs": [],
   "source": [
    "from refl.agents import ReinforceAgent, BaselineReinforceAgent\n",
    "from refl.envs import GridWorldEnv, CartPoleEnv"
   ]
  },
  {
   "cell_type": "code",
   "execution_count": 10,
   "metadata": {},
   "outputs": [],
   "source": [
    "env = GridWorldEnv()\n",
    "agent = BaselineReinforceAgent(n_state_dims=env.n_state_dims, n_latent_dims=2, n_actions=env.n_actions, eps=0.05, gamma=0.99)"
   ]
  },
  {
   "cell_type": "code",
   "execution_count": 11,
   "metadata": {},
   "outputs": [
    {
     "name": "stdout",
     "output_type": "stream",
     "text": [
      "s=0, a=3, r=0.0, s`=1\n",
      "s=1, a=3, r=0.0, s`=2\n",
      "s=2, a=0, r=0.0, s`=7\n",
      "s=7, a=0, r=0.0, s`=7\n",
      "s=7, a=0, r=0.0, s`=7\n",
      "s=7, a=0, r=0.0, s`=6\n",
      "s=6, a=0, r=0.0, s`=11\n",
      "s=11, a=0, r=0.0, s`=16\n",
      "s=16, a=0, r=0.0, s`=21\n",
      "s=21, a=0, r=0.0, s`=21\n",
      "s=21, a=0, r=0.0, s`=21\n",
      "s=21, a=0, r=0.0, s`=22\n",
      "s=22, a=0, r=0.0, s`=22\n",
      "s=22, a=0, r=0.0, s`=22\n",
      "s=22, a=0, r=0.0, s`=23\n",
      "s=23, a=0, r=0.0, s`=23\n",
      "s=23, a=0, r=0.0, s`=23\n",
      "s=23, a=0, r=0.0, s`=23\n",
      "s=23, a=0, r=0.0, s`=23\n",
      "s=23, a=0, r=0.0, s`=23\n",
      "s=23, a=0, r=0.0, s`=23\n",
      "s=23, a=0, r=0.0, s`=23\n",
      "s=23, a=0, r=0.0, s`=23\n",
      "s=23, a=0, r=0.0, s`=23\n",
      "s=23, a=0, r=0.0, s`=23\n",
      "s=23, a=0, r=0.0, s`=23\n",
      "s=23, a=0, r=0.0, s`=22\n",
      "s=22, a=0, r=0.0, s`=22\n",
      "s=22, a=0, r=0.0, s`=22\n",
      "s=22, a=0, r=0.0, s`=22\n",
      "s=22, a=0, r=0.0, s`=22\n",
      "s=22, a=0, r=0.0, s`=22\n",
      "s=22, a=0, r=0.0, s`=22\n",
      "s=22, a=0, r=0.0, s`=22\n",
      "s=22, a=0, r=0.0, s`=22\n",
      "s=22, a=0, r=0.0, s`=21\n",
      "s=21, a=0, r=0.0, s`=21\n",
      "s=21, a=0, r=0.0, s`=21\n",
      "s=21, a=0, r=0.0, s`=21\n",
      "s=21, a=0, r=0.0, s`=21\n",
      "s=21, a=0, r=0.0, s`=21\n",
      "s=21, a=0, r=0.0, s`=21\n",
      "s=21, a=0, r=0.0, s`=21\n",
      "s=21, a=0, r=0.0, s`=21\n",
      "s=21, a=0, r=0.0, s`=21\n",
      "s=21, a=0, r=0.0, s`=21\n",
      "s=21, a=0, r=0.0, s`=21\n",
      "s=21, a=0, r=0.0, s`=21\n",
      "s=21, a=0, r=0.0, s`=21\n",
      "s=21, a=0, r=0.0, s`=20\n",
      "s=20, a=0, r=0.0, s`=20\n",
      "s=20, a=0, r=0.0, s`=20\n",
      "s=20, a=0, r=0.0, s`=20\n",
      "s=20, a=0, r=0.0, s`=19\n",
      "s=19, a=0, r=10.0, s`=24\n"
     ]
    },
    {
     "data": {
      "text/plain": [
       "Episode(steps=[Step(state=0, action=3, reward=0.0, time=0), Step(state=1, action=3, reward=0.0, time=1), Step(state=2, action=0, reward=0.0, time=2), Step(state=7, action=0, reward=0.0, time=3), Step(state=7, action=0, reward=0.0, time=4), Step(state=7, action=0, reward=0.0, time=5), Step(state=6, action=0, reward=0.0, time=6), Step(state=11, action=0, reward=0.0, time=7), Step(state=16, action=0, reward=0.0, time=8), Step(state=21, action=0, reward=0.0, time=9), Step(state=21, action=0, reward=0.0, time=10), Step(state=21, action=0, reward=0.0, time=11), Step(state=22, action=0, reward=0.0, time=12), Step(state=22, action=0, reward=0.0, time=13), Step(state=22, action=0, reward=0.0, time=14), Step(state=23, action=0, reward=0.0, time=15), Step(state=23, action=0, reward=0.0, time=16), Step(state=23, action=0, reward=0.0, time=17), Step(state=23, action=0, reward=0.0, time=18), Step(state=23, action=0, reward=0.0, time=19), Step(state=23, action=0, reward=0.0, time=20), Step(state=23, action=0, reward=0.0, time=21), Step(state=23, action=0, reward=0.0, time=22), Step(state=23, action=0, reward=0.0, time=23), Step(state=23, action=0, reward=0.0, time=24), Step(state=23, action=0, reward=0.0, time=25), Step(state=23, action=0, reward=0.0, time=26), Step(state=22, action=0, reward=0.0, time=27), Step(state=22, action=0, reward=0.0, time=28), Step(state=22, action=0, reward=0.0, time=29), Step(state=22, action=0, reward=0.0, time=30), Step(state=22, action=0, reward=0.0, time=31), Step(state=22, action=0, reward=0.0, time=32), Step(state=22, action=0, reward=0.0, time=33), Step(state=22, action=0, reward=0.0, time=34), Step(state=22, action=0, reward=0.0, time=35), Step(state=21, action=0, reward=0.0, time=36), Step(state=21, action=0, reward=0.0, time=37), Step(state=21, action=0, reward=0.0, time=38), Step(state=21, action=0, reward=0.0, time=39), Step(state=21, action=0, reward=0.0, time=40), Step(state=21, action=0, reward=0.0, time=41), Step(state=21, action=0, reward=0.0, time=42), Step(state=21, action=0, reward=0.0, time=43), Step(state=21, action=0, reward=0.0, time=44), Step(state=21, action=0, reward=0.0, time=45), Step(state=21, action=0, reward=0.0, time=46), Step(state=21, action=0, reward=0.0, time=47), Step(state=21, action=0, reward=0.0, time=48), Step(state=21, action=0, reward=0.0, time=49), Step(state=20, action=0, reward=0.0, time=50), Step(state=20, action=0, reward=0.0, time=51), Step(state=20, action=0, reward=0.0, time=52), Step(state=20, action=0, reward=0.0, time=53), Step(state=19, action=0, reward=10.0, time=54)], gamma=0.99)"
      ]
     },
     "execution_count": 11,
     "metadata": {},
     "output_type": "execute_result"
    }
   ],
   "source": [
    "agent.generate_episode(env)"
   ]
  },
  {
   "cell_type": "code",
   "execution_count": null,
   "metadata": {},
   "outputs": [],
   "source": []
  }
 ],
 "metadata": {
  "kernelspec": {
   "display_name": "rl-assign",
   "language": "python",
   "name": "python3"
  },
  "language_info": {
   "codemirror_mode": {
    "name": "ipython",
    "version": 3
   },
   "file_extension": ".py",
   "mimetype": "text/x-python",
   "name": "python",
   "nbconvert_exporter": "python",
   "pygments_lexer": "ipython3",
   "version": "3.9.19"
  }
 },
 "nbformat": 4,
 "nbformat_minor": 2
}
